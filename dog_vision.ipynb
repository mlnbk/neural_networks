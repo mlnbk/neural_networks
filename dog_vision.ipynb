{
  "nbformat": 4,
  "nbformat_minor": 0,
  "metadata": {
    "colab": {
      "provenance": [],
      "toc_visible": true,
      "gpuType": "T4",
      "mount_file_id": "1jEtz5vzmSU2KXE_pM-6jZAEWNukB28oQ",
      "authorship_tag": "ABX9TyMrOVTagtt9A0bzfOli/lk6",
      "include_colab_link": true
    },
    "kernelspec": {
      "name": "python3",
      "display_name": "Python 3"
    },
    "language_info": {
      "name": "python"
    },
    "accelerator": "GPU"
  },
  "cells": [
    {
      "cell_type": "markdown",
      "metadata": {
        "id": "view-in-github",
        "colab_type": "text"
      },
      "source": [
        "<a href=\"https://colab.research.google.com/github/mlnbk/neural_networks/blob/main/dog_vision.ipynb\" target=\"_parent\"><img src=\"https://colab.research.google.com/assets/colab-badge.svg\" alt=\"Open In Colab\"/></a>"
      ]
    },
    {
      "cell_type": "markdown",
      "source": [
        "# End-to-end Multi-class Dog Breed Classification\n",
        "\n",
        "This notebook builds a multi-class image classifier using TensoFlow 2 and TensorFlow Hub.\n",
        "\n",
        "## 1. Problem\n",
        "\n",
        "Identifying the breed of a dog given an image of a dog.\n",
        "\n",
        "\n",
        "## 2. Data\n",
        "\n",
        "The data being used is from Kaggle's dog breed identification competition.\n",
        "https://www.kaggle.com/competitions/dog-breed-identification/data\n",
        "\n",
        "## 3. Evaluation\n",
        "\n",
        "For each image in the test set, we must predict a probability for each of the different breeds.\n",
        "\n",
        "https://www.kaggle.com/competitions/dog-breed-identification/overview/evaluation\n",
        "\n",
        "## 4. Features\n",
        "\n",
        "* Images (unstructured data) -> deep learning/transfer learning should be used\n",
        "* There are 120 dog breeds (120 different classes)\n",
        "* 10000+ images in the training set (labeled)\n",
        "* 10000+ images in the test set (unlabeled, it should be predicted)"
      ],
      "metadata": {
        "id": "8X8SupMHvpdw"
      }
    },
    {
      "cell_type": "code",
      "execution_count": 2,
      "metadata": {
        "id": "h_cBPwZdsBam"
      },
      "outputs": [],
      "source": [
        "# Unzip the uploaded data in Google Drive\n",
        "#!unzip -qq \"/content/drive/MyDrive/Colab Data/Dog Vision/dog-breed-identification.zip\" -d \"/content/drive/MyDrive/Colab Data/Dog Vision/\""
      ]
    },
    {
      "cell_type": "markdown",
      "source": [
        "### Setup workspace\n",
        "\n",
        "* Import TensorFlow 2.X\n",
        "* Import TensorFlow Hub\n",
        "* Make sure GPU is used"
      ],
      "metadata": {
        "id": "TqD7E4gexPWq"
      }
    },
    {
      "cell_type": "code",
      "source": [
        "import tensorflow as tf\n",
        "import tensorflow_hub as hub\n",
        "\n",
        "# Check for GPU availability\n",
        "print('GPU', 'available' if tf.config.list_physical_devices('GPU') else 'not available')"
      ],
      "metadata": {
        "colab": {
          "base_uri": "https://localhost:8080/"
        },
        "id": "k53pNUXExN_L",
        "outputId": "99314ead-aa31-4082-f0eb-37d0c02b7ab0"
      },
      "execution_count": 1,
      "outputs": [
        {
          "output_type": "stream",
          "name": "stdout",
          "text": [
            "GPU available\n"
          ]
        }
      ]
    }
  ]
}